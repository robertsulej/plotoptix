{
 "cells": [
  {
   "cell_type": "markdown",
   "metadata": {},
   "source": [
    "## Subsurface scattering\n",
    "\n",
    "This example shows how to:\n",
    "   - setup a glass-like material for subsurface scattering\n",
    "   - enable light emmision in the volume\n",
    "\n",
    "![plotoptix ray_tracing_output](https://plotoptix.rnd.team/images/subsurface.jpg \"This notebook output\")\n",
    "\n",
    "Glass-like material shader in PlotOptiX can simulate light propagation in a volume with a diffuse scattering. The free path length of the light is set with ``radiation_length``, and the diffusion color is ``subsurface_color``. You can add some color to the surface with ``surface_albedo`` or enable a light emission in the volume to obtain the finest quality materials."
   ]
  },
  {
   "cell_type": "markdown",
   "metadata": {},
   "source": [
    "Make some data for a simple scene first:"
   ]
  },
  {
   "cell_type": "code",
   "execution_count": 1,
   "metadata": {},
   "outputs": [],
   "source": [
    "import numpy as np\n",
    "\n",
    "rx = (-20, 20)\n",
    "rz = (-20, 20)\n",
    "n = 100\n",
    "\n",
    "x = np.linspace(rx[0], rx[1], n)\n",
    "z = np.linspace(rz[0], rz[1], n)\n",
    "\n",
    "X, Z = np.meshgrid(x, z)\n",
    "\n",
    "# positions of blocks\n",
    "data = np.stack((X.flatten(), np.full(n*n, -2), Z.flatten())).T\n",
    "# XZ sizes\n",
    "size_u = 0.96 * (rx[1] - rx[0]) / (n - 1)\n",
    "size_w = 0.96 * (rz[1] - rz[0]) / (n - 1)"
   ]
  },
  {
   "cell_type": "markdown",
   "metadata": {},
   "source": [
    "Setup the raytracer using Tkinter GUI as the output target. Note, it is important to select the **background mode** which supports scattering in volumes: ``AmbientAndVolume``, ``TextureFixed``, or ``TextureEnvironment``."
   ]
  },
  {
   "cell_type": "code",
   "execution_count": 2,
   "metadata": {},
   "outputs": [],
   "source": [
    "from plotoptix import TkOptiX\n",
    "\n",
    "optix = TkOptiX()\n",
    "optix.set_param(min_accumulation_step=4,      # set more accumulation frames to get rid of the noise\n",
    "                max_accumulation_frames=512,\n",
    "                light_shading=\"Hard\")         # use ligth shading best for caustics\n",
    "\n",
    "optix.set_uint(\"path_seg_range\", 15, 40)      # more path segments to improve simulation in the volume\n",
    "\n",
    "optix.set_background_mode(\"AmbientAndVolume\") # need one of modes supporting scattering in volumes"
   ]
  },
  {
   "cell_type": "markdown",
   "metadata": {},
   "source": [
    "Only *diffuse* material is available by default. Other materials need to be configured before using."
   ]
  },
  {
   "cell_type": "code",
   "execution_count": 3,
   "metadata": {},
   "outputs": [],
   "source": [
    "from plotoptix.materials import m_clear_glass, m_matt_glass\n",
    "import copy\n",
    "\n",
    "m_env = copy.deepcopy(m_clear_glass)\n",
    "m_env[\"VarFloat3\"][\"refraction_index\"] = [1.0, 1.0, 1.0]\n",
    "\n",
    "m_clear_glass_2 = copy.deepcopy(m_clear_glass)\n",
    "m_clear_glass_3 = copy.deepcopy(m_clear_glass)\n",
    "m_clear_glass_4 = copy.deepcopy(m_clear_glass)\n",
    "m_clear_glass_5 = copy.deepcopy(m_clear_glass)\n",
    "\n",
    "m_matt_glass_2 = copy.deepcopy(m_matt_glass)\n",
    "\n",
    "m_light_1 = copy.deepcopy(m_clear_glass)\n",
    "m_light_2 = copy.deepcopy(m_clear_glass)\n",
    "\n",
    "optix.setup_material(\"glass\", m_clear_glass)          # clear glass\n",
    "optix.setup_material(\"glass_2\", m_clear_glass_2)      # diffuse color\n",
    "optix.setup_material(\"glass_3\", m_clear_glass_3)      # diffuse and albedo color\n",
    "optix.setup_material(\"glass_4\", m_clear_glass_4)      # diffuse slight\n",
    "optix.setup_material(\"glass_5\", m_clear_glass_5)      # diffuse slight, textured\n",
    "optix.setup_material(\"matt_glass\", m_matt_glass)      # matt surface\n",
    "optix.setup_material(\"matt_glass_2\", m_matt_glass_2)  # matt surface, diffuse volume\n",
    "optix.setup_material(\"light_1\", m_light_1)            # emissive\n",
    "optix.setup_material(\"light_2\", m_light_2)            # emissive, textured"
   ]
  },
  {
   "cell_type": "markdown",
   "metadata": {},
   "source": [
    "Add objects to the scene."
   ]
  },
  {
   "cell_type": "code",
   "execution_count": 4,
   "metadata": {},
   "outputs": [],
   "source": [
    "optix.set_data(\"blocks\", pos=data,\n",
    "               c=0.85 + 0.1*np.random.randint(3, size=data.shape[0]),\n",
    "               u=[size_u, 0, 0], v=[0, -1, 0], w=[0, 0, size_w],\n",
    "               geom=\"Parallelepipeds\")\n",
    "\n",
    "optix.set_data(\"c_glass\", pos=[-3.5, 0, -5], u=[0.25, 0, 0], v=[0, 4, 0], w=[0, 0, 4], c=10, mat=\"glass\", geom=\"Parallelepipeds\")\n",
    "optix.rotate_geometry(\"c_glass\", [0, 0, -np.pi/4])\n",
    "optix.set_data(\"c_glass_2\", pos=[-0.5, 0, -5], u=[0.25, 0, 0], v=[0, 4, 0], w=[0, 0, 4], c=10, mat=\"glass_2\", geom=\"Parallelepipeds\")\n",
    "optix.rotate_geometry(\"c_glass_2\", [0, 0, -np.pi/4])\n",
    "optix.set_data(\"c_light_1\", pos=[2.5, 0, -5], u=[0.25, 0, 0], v=[0, 4, 0], w=[0, 0, 4], c=10, mat=\"light_1\", geom=\"Parallelepipeds\")\n",
    "optix.rotate_geometry(\"c_light_1\", [0, 0, -np.pi/4])\n",
    "\n",
    "optix.set_data(\"s_light_2\", pos=[-3.1, 1.5, 1], r=1.5, c=10, mat=\"light_2\", geom=\"ParticleSetTextured\")\n",
    "optix.set_data(\"s_glass_2\", pos=[0, 1.5, 1], r=1.5, c=10, mat=\"glass_2\")\n",
    "optix.set_data(\"s_glass_3\", pos=[3.1, 1.5, 1], r=1.5, c=10, mat=\"glass_3\")\n",
    "\n",
    "optix.set_data(\"s_matt_glass\", pos=[-3.1, 1.5, 4.1], r=1.5, c=10, mat=\"matt_glass\")\n",
    "optix.set_data(\"s_glass_4\", pos=[0, 1.5, 4.1], r=1.5, c=10, mat=\"glass_4\")\n",
    "optix.set_data(\"s_glass_5\", pos=[3.1, 1.5, 4.1], r=1.5, c=10, mat=\"glass_5\", geom=\"ParticleSetTextured\")\n",
    "\n",
    "optix.set_data(\"s_matt_colored\", pos=[-3.1, 1.5, 7.2], r=1.5, c=10, mat=\"matt_glass_2\")\n",
    "optix.set_data(\"s_light_1\", pos=[0, 1.5, 7.2], r=1.5, c=10, mat=\"light_1\")\n",
    "optix.set_data(\"s_glass\", pos=[3.1, 1.5, 7.2], r=1.5, c=10, mat=\"glass\")"
   ]
  },
  {
   "cell_type": "markdown",
   "metadata": {},
   "source": [
    "Setup a good point of view, set background and lights."
   ]
  },
  {
   "cell_type": "code",
   "execution_count": 5,
   "metadata": {},
   "outputs": [],
   "source": [
    "optix.setup_camera(\"cam1\", cam_type=\"DoF\",\n",
    "                   eye=[0, 15, 1.55], target=[0, 0, 1.55], up=[1, 0, 0],\n",
    "                   aperture_radius=0.01, fov=45, focal_scale=0.8)\n",
    "\n",
    "optix.setup_light(\"light1\", pos=[5, 8, 7], color=[10, 10, 10], radius=1.9)\n",
    "optix.setup_light(\"light2\", pos=[-6, 8, -5], color=[10, 11, 12], radius=1.3)\n",
    "\n",
    "exposure = 1.1; gamma = 2.2 \n",
    "optix.set_float(\"tonemap_exposure\", exposure)\n",
    "optix.set_float(\"tonemap_gamma\", gamma)\n",
    "optix.set_float(\"denoiser_blend\", 0.2)\n",
    "optix.add_postproc(\"Denoiser\")    # apply AI denoiser, or\n",
    "#optix.add_postproc(\"Gamma\")      # use gamma correction\n",
    "\n",
    "optix.set_background(0)\n",
    "optix.set_ambient(0)"
   ]
  },
  {
   "cell_type": "markdown",
   "metadata": {},
   "source": [
    "Open the GUI."
   ]
  },
  {
   "cell_type": "code",
   "execution_count": 6,
   "metadata": {
    "scrolled": true
   },
   "outputs": [],
   "source": [
    "optix.start()"
   ]
  },
  {
   "cell_type": "markdown",
   "metadata": {},
   "source": [
    "Modify materials:"
   ]
  },
  {
   "cell_type": "code",
   "execution_count": 7,
   "metadata": {},
   "outputs": [],
   "source": [
    "m_clear_glass_2[\"VarFloat\"][\"radiation_length\"] = 0.1                # short w.r.t. the object size\n",
    "m_clear_glass_2[\"VarFloat3\"][\"subsurface_color\"] = [ 0.7, 0.85, 1 ]\n",
    "optix.update_material(\"glass_2\", m_clear_glass_2)\n",
    "\n",
    "m_clear_glass_3[\"VarFloat\"][\"radiation_length\"] = 0.1\n",
    "m_clear_glass_3[\"VarFloat3\"][\"subsurface_color\"] = [ 0.7, 0.85, 1 ]\n",
    "m_clear_glass_3[\"VarFloat3\"][\"surface_albedo\"] = [ 0.6, 0.8, 1 ]     # add some color to reflections\n",
    "optix.update_material(\"glass_3\", m_clear_glass_3)\n",
    "\n",
    "m_clear_glass_4[\"VarFloat\"][\"radiation_length\"] = 1.0                # comparable to the object size\n",
    "m_clear_glass_4[\"VarFloat3\"][\"subsurface_color\"] = [ 1, 0.85, 0.7 ]\n",
    "optix.update_material(\"glass_4\", m_clear_glass_4)\n",
    "\n",
    "optix.load_texture(\"rainbow\", r\"data/rainbow.jpg\")\n",
    "m_clear_glass_5[\"VarFloat\"][\"radiation_length\"] = 1.0\n",
    "m_clear_glass_5[\"VarFloat3\"][\"subsurface_color\"] = [ 1, 0.85, 0.7 ]\n",
    "m_clear_glass_5[\"VarFloat3\"][\"surface_albedo\"] = [ 0.9, 1, 1 ]\n",
    "m_clear_glass_5[\"ColorTextures\"] = [ \"rainbow\" ]\n",
    "optix.update_material(\"glass_5\", m_clear_glass_5)\n",
    "\n",
    "m_matt_glass_2[\"VarFloat\"][\"radiation_length\"] = 1.0\n",
    "m_matt_glass_2[\"VarFloat3\"][\"subsurface_color\"] = [ 1, 0.8, 1 ]\n",
    "optix.update_material(\"matt_glass_2\", m_matt_glass_2)\n",
    "\n",
    "m_light_1[\"VarFloat\"][\"radiation_length\"] = 1.5\n",
    "m_light_1[\"VarFloat\"][\"light_emission\"] = 0.02                       # add light on each scattering\n",
    "m_light_1[\"VarFloat3\"][\"subsurface_color\"] = [ 0.9, 1, 1 ]           # diffuse and emission base color\n",
    "optix.update_material(\"light_1\", m_light_1)\n",
    "\n",
    "optix.load_texture(\"wood\", r\"data/wood.jpg\")\n",
    "m_light_2[\"VarFloat\"][\"radiation_length\"] = 1.5\n",
    "m_light_2[\"VarFloat\"][\"light_emission\"] = 0.02\n",
    "m_light_2[\"VarFloat3\"][\"subsurface_color\"] = [ 1, 1, 1 ]             # leave the (default) neutral color\n",
    "m_light_2[\"ColorTextures\"] = [ \"wood\" ]\n",
    "optix.update_material(\"light_2\", m_light_2, refresh=True)"
   ]
  },
  {
   "cell_type": "markdown",
   "metadata": {},
   "source": [
    "Close GUI window, release resources."
   ]
  },
  {
   "cell_type": "code",
   "execution_count": 9,
   "metadata": {},
   "outputs": [],
   "source": [
    "optix.close()"
   ]
  }
 ],
 "metadata": {
  "kernelspec": {
   "display_name": "Python 3 (ipykernel)",
   "language": "python",
   "name": "python3"
  },
  "language_info": {
   "codemirror_mode": {
    "name": "ipython",
    "version": 3
   },
   "file_extension": ".py",
   "mimetype": "text/x-python",
   "name": "python",
   "nbconvert_exporter": "python",
   "pygments_lexer": "ipython3",
   "version": "3.10.6"
  }
 },
 "nbformat": 4,
 "nbformat_minor": 2
}
